{
 "cells": [
  {
   "cell_type": "markdown",
   "metadata": {},
   "source": [
    "Required Libraries."
   ]
  },
  {
   "cell_type": "code",
   "execution_count": null,
   "metadata": {},
   "outputs": [],
   "source": [
    "import warnings\n",
    "warnings.filterwarnings(\"ignore\", category=FutureWarning)"
   ]
  },
  {
   "cell_type": "code",
   "execution_count": 54,
   "metadata": {},
   "outputs": [],
   "source": [
    "from pyspark.sql import SQLContext\n",
    "from pyspark.sql.types import *\n",
    "from pyspark.sql import SparkSession\n",
    "from pyspark.sql.functions import col, when\n",
    "from pyspark.ml.feature import Tokenizer, Word2Vec\n",
    "from tqdm import tqdm\n",
    "import pandas as pd\n",
    "from sklearn.metrics import classification_report, confusion_matrix\n",
    "from pyspark.ml.classification import LogisticRegression,RandomForestClassifier, DecisionTreeClassifier \n",
    "from pyspark.ml.classification import NaiveBayes"
   ]
  },
  {
   "cell_type": "code",
   "execution_count": 10,
   "metadata": {},
   "outputs": [],
   "source": [
    "from pyspark.ml.feature import OneHotEncoder"
   ]
  },
  {
   "cell_type": "markdown",
   "metadata": {},
   "source": [
    "Connection with Mysql - Loading Dataset."
   ]
  },
  {
   "cell_type": "code",
   "execution_count": 3,
   "metadata": {},
   "outputs": [],
   "source": [
    "import findspark\n",
    "findspark.init()\n",
    "\n",
    "import pyspark # only run after findspark.init()\n",
    "from pyspark.sql import SparkSession\n",
    "spark = SparkSession.builder.getOrCreate()\n",
    "\n",
    "dataframe_mysql = spark.read.format(\"jdbc\").options(\n",
    "    url=\"jdbc:mysql://localhost:3306/twitter_analysis\",\n",
    "    driver = \"com.mysql.jdbc.Driver\",\n",
    "    dbtable = \"tweets\",\n",
    "    user=\"root\",\n",
    "    password=\"8056\").load()"
   ]
  },
  {
   "cell_type": "code",
   "execution_count": 77,
   "metadata": {},
   "outputs": [
    {
     "data": {
      "text/plain": [
       "['id', 'Tweet', 'Sentiment']"
      ]
     },
     "execution_count": 77,
     "metadata": {},
     "output_type": "execute_result"
    }
   ],
   "source": [
    "dataframe_mysql.columns"
   ]
  },
  {
   "cell_type": "code",
   "execution_count": 78,
   "metadata": {},
   "outputs": [
    {
     "data": {
      "text/plain": [
       "3260"
      ]
     },
     "execution_count": 78,
     "metadata": {},
     "output_type": "execute_result"
    }
   ],
   "source": [
    "dataframe_mysql.count()"
   ]
  },
  {
   "cell_type": "code",
   "execution_count": 5,
   "metadata": {},
   "outputs": [
    {
     "name": "stdout",
     "output_type": "stream",
     "text": [
      "+---+--------------------+---------+\n",
      "| id|               Tweet|Sentiment|\n",
      "+---+--------------------+---------+\n",
      "|  0|at this point i r...| positive|\n",
      "|  1|billion twitterta...|  Neutral|\n",
      "|  2|https t co ssxwea...|  Neutral|\n",
      "|  3|hello project ver...| positive|\n",
      "|  4|purging of conser...|  Neutral|\n",
      "+---+--------------------+---------+\n",
      "only showing top 5 rows\n",
      "\n"
     ]
    }
   ],
   "source": [
    "dataframe_mysql.show(5)"
   ]
  },
  {
   "cell_type": "markdown",
   "metadata": {},
   "source": [
    "Encoding the Target colum."
   ]
  },
  {
   "cell_type": "code",
   "execution_count": 18,
   "metadata": {},
   "outputs": [
    {
     "name": "stdout",
     "output_type": "stream",
     "text": [
      "+---+--------------------+---------+-------------+\n",
      "| id|               Tweet|Sentiment|Sentiment_num|\n",
      "+---+--------------------+---------+-------------+\n",
      "|  0|at this point i r...| positive|          1.0|\n",
      "|  1|billion twitterta...|  Neutral|          0.0|\n",
      "|  2|https t co ssxwea...|  Neutral|          0.0|\n",
      "|  3|hello project ver...| positive|          1.0|\n",
      "|  4|purging of conser...|  Neutral|          0.0|\n",
      "+---+--------------------+---------+-------------+\n",
      "only showing top 5 rows\n",
      "\n"
     ]
    }
   ],
   "source": [
    "from pyspark.ml.feature import StringIndexer\n",
    "\n",
    "indexer = StringIndexer(inputCol=\"Sentiment\", outputCol=\"Sentiment_num\").fit(dataframe_mysql)\n",
    "indexed_df = indexer.transform(dataframe_mysql)\n",
    "indexed_df.show(5)"
   ]
  },
  {
   "cell_type": "markdown",
   "metadata": {},
   "source": [
    "After encoding the Target column, the data is ready to be used for modeling."
   ]
  },
  {
   "cell_type": "code",
   "execution_count": 21,
   "metadata": {},
   "outputs": [
    {
     "name": "stdout",
     "output_type": "stream",
     "text": [
      "+---+--------------------+-------------+\n",
      "| id|               Tweet|Sentiment_num|\n",
      "+---+--------------------+-------------+\n",
      "|  0|at this point i r...|          1.0|\n",
      "|  1|billion twitterta...|          0.0|\n",
      "|  2|https t co ssxwea...|          0.0|\n",
      "|  3|hello project ver...|          1.0|\n",
      "|  4|purging of conser...|          0.0|\n",
      "+---+--------------------+-------------+\n",
      "only showing top 5 rows\n",
      "\n"
     ]
    }
   ],
   "source": [
    "indexed_df.drop('Sentiment').show(5)"
   ]
  },
  {
   "cell_type": "markdown",
   "metadata": {},
   "source": [
    "Tokenizer."
   ]
  },
  {
   "cell_type": "code",
   "execution_count": 33,
   "metadata": {},
   "outputs": [],
   "source": [
    "\n",
    "tokenizer = Tokenizer(inputCol=indexed_df.columns[1], outputCol=\"Tokens\")\n",
    "wordsData = tokenizer.transform(indexed_df)"
   ]
  },
  {
   "cell_type": "code",
   "execution_count": 34,
   "metadata": {},
   "outputs": [
    {
     "name": "stdout",
     "output_type": "stream",
     "text": [
      "+---+--------------------+---------+-------------+--------------------+\n",
      "| id|               Tweet|Sentiment|Sentiment_num|              Tokens|\n",
      "+---+--------------------+---------+-------------+--------------------+\n",
      "|  0|at this point i r...| positive|          1.0|[at, this, point,...|\n",
      "|  1|billion twitterta...|  Neutral|          0.0|[billion, twitter...|\n",
      "|  2|https t co ssxwea...|  Neutral|          0.0|[https, t, co, ss...|\n",
      "|  3|hello project ver...| positive|          1.0|[hello, project, ...|\n",
      "|  4|purging of conser...|  Neutral|          0.0|[purging, of, con...|\n",
      "+---+--------------------+---------+-------------+--------------------+\n",
      "only showing top 5 rows\n",
      "\n"
     ]
    }
   ],
   "source": [
    "wordsData.show(5)"
   ]
  },
  {
   "cell_type": "markdown",
   "metadata": {},
   "source": [
    "Converting words to vector."
   ]
  },
  {
   "cell_type": "code",
   "execution_count": 35,
   "metadata": {},
   "outputs": [],
   "source": [
    "word2Vec = Word2Vec(vectorSize=3, minCount=0, inputCol=\"Tokens\", outputCol=\"result\")\n",
    "model = word2Vec.fit(wordsData)\n",
    "\n",
    "result = model.transform(wordsData)"
   ]
  },
  {
   "cell_type": "code",
   "execution_count": 36,
   "metadata": {},
   "outputs": [
    {
     "name": "stdout",
     "output_type": "stream",
     "text": [
      "+---+--------------------+---------+-------------+--------------------+--------------------+\n",
      "| id|               Tweet|Sentiment|Sentiment_num|              Tokens|              result|\n",
      "+---+--------------------+---------+-------------+--------------------+--------------------+\n",
      "|  0|at this point i r...| positive|          1.0|[at, this, point,...|[-0.0221444366782...|\n",
      "|  1|billion twitterta...|  Neutral|          0.0|[billion, twitter...|[-0.1028491018268...|\n",
      "|  2|https t co ssxwea...|  Neutral|          0.0|[https, t, co, ss...|[-0.1155088072021...|\n",
      "|  3|hello project ver...| positive|          1.0|[hello, project, ...|[-0.0734242481800...|\n",
      "|  4|purging of conser...|  Neutral|          0.0|[purging, of, con...|[-0.0491263920441...|\n",
      "+---+--------------------+---------+-------------+--------------------+--------------------+\n",
      "only showing top 5 rows\n",
      "\n"
     ]
    }
   ],
   "source": [
    "result.show(5)"
   ]
  },
  {
   "cell_type": "markdown",
   "metadata": {},
   "source": [
    "Train and test data split."
   ]
  },
  {
   "cell_type": "code",
   "execution_count": 40,
   "metadata": {},
   "outputs": [],
   "source": [
    "train_df,test_df = result.select(result.columns[3], 'result').randomSplit([0.8,0.2], seed=140)"
   ]
  },
  {
   "cell_type": "markdown",
   "metadata": {},
   "source": [
    "Naive Bayes model."
   ]
  },
  {
   "cell_type": "code",
   "execution_count": 42,
   "metadata": {},
   "outputs": [],
   "source": [
    "NB = NaiveBayes(featuresCol = 'result', labelCol = result.columns[3],  modelType=\"gaussian\")\n",
    "NB_model = NB.fit(train_df)\n",
    "predictions = NB_model.transform(test_df)"
   ]
  },
  {
   "cell_type": "markdown",
   "metadata": {},
   "source": [
    "Prediction on test data."
   ]
  },
  {
   "cell_type": "code",
   "execution_count": 49,
   "metadata": {},
   "outputs": [
    {
     "data": {
      "text/plain": [
       "0.677891654465593"
      ]
     },
     "execution_count": 49,
     "metadata": {},
     "output_type": "execute_result"
    }
   ],
   "source": [
    "predictions.filter(predictions['prediction'] == 1).select('prediction').count()/test_df.count()"
   ]
  },
  {
   "cell_type": "code",
   "execution_count": 50,
   "metadata": {},
   "outputs": [
    {
     "data": {
      "text/plain": [
       "0.32210834553440704"
      ]
     },
     "execution_count": 50,
     "metadata": {},
     "output_type": "execute_result"
    }
   ],
   "source": [
    "predictions.filter(predictions['prediction'] == 0).select('prediction').count()/test_df.count()"
   ]
  },
  {
   "cell_type": "code",
   "execution_count": 51,
   "metadata": {},
   "outputs": [
    {
     "data": {
      "text/plain": [
       "0.0"
      ]
     },
     "execution_count": 51,
     "metadata": {},
     "output_type": "execute_result"
    }
   ],
   "source": [
    "predictions.filter(predictions['prediction'] == 2).select('prediction').count()/test_df.count()"
   ]
  },
  {
   "cell_type": "markdown",
   "metadata": {},
   "source": [
    "Model Performance."
   ]
  },
  {
   "cell_type": "code",
   "execution_count": 100,
   "metadata": {},
   "outputs": [
    {
     "name": "stdout",
     "output_type": "stream",
     "text": [
      "-- Naive Bayes Classifier --\n",
      "------------------------------------------------------------------------\n",
      "Classification Report\n",
      "               precision    recall  f1-score   support\n",
      "\n",
      "         0.0       0.52      0.40      0.45       284\n",
      "         1.0       0.43      0.77      0.55       260\n",
      "         2.0       0.00      0.00      0.00       139\n",
      "\n",
      "    accuracy                           0.46       683\n",
      "   macro avg       0.32      0.39      0.33       683\n",
      "weighted avg       0.38      0.46      0.40       683\n",
      "\n",
      "------------------------------------------------------------------------\n",
      "Confusion matrix\n",
      " [[114 170   0]\n",
      " [ 61 199   0]\n",
      " [ 45  94   0]] \n",
      "\n",
      "\n"
     ]
    },
    {
     "name": "stderr",
     "output_type": "stream",
     "text": [
      "c:\\Users\\sanjaypranav\\.conda\\envs\\Pyspark\\lib\\site-packages\\sklearn\\metrics\\_classification.py:1318: UndefinedMetricWarning: Precision and F-score are ill-defined and being set to 0.0 in labels with no predicted samples. Use `zero_division` parameter to control this behavior.\n",
      "  _warn_prf(average, modifier, msg_start, len(result))\n",
      "c:\\Users\\sanjaypranav\\.conda\\envs\\Pyspark\\lib\\site-packages\\sklearn\\metrics\\_classification.py:1318: UndefinedMetricWarning: Precision and F-score are ill-defined and being set to 0.0 in labels with no predicted samples. Use `zero_division` parameter to control this behavior.\n",
      "  _warn_prf(average, modifier, msg_start, len(result))\n",
      "c:\\Users\\sanjaypranav\\.conda\\envs\\Pyspark\\lib\\site-packages\\sklearn\\metrics\\_classification.py:1318: UndefinedMetricWarning: Precision and F-score are ill-defined and being set to 0.0 in labels with no predicted samples. Use `zero_division` parameter to control this behavior.\n",
      "  _warn_prf(average, modifier, msg_start, len(result))\n"
     ]
    }
   ],
   "source": [
    "result = predictions.select(predictions.columns[3], 'prediction').toPandas()\n",
    "true_labels=(test_df.select(\"Sentiment_num\")).toPandas()\n",
    "predicted_labels=result[\"prediction\"]\n",
    "\n",
    "print(\"-- Naive Bayes Classifier --\")\n",
    "print(\"------------------------------------------------------------------------\")\n",
    "print(\"Classification Report\\n\",classification_report(true_labels, predicted_labels))\n",
    "print(\"------------------------------------------------------------------------\")\n",
    "print(\"Confusion matrix\\n\",confusion_matrix(true_labels,predicted_labels),\"\\n\\n\")\n",
    "DC=confusion_matrix(true_labels,predicted_labels)"
   ]
  },
  {
   "cell_type": "markdown",
   "metadata": {},
   "source": [
    "Random Forest Classifier."
   ]
  },
  {
   "cell_type": "code",
   "execution_count": 63,
   "metadata": {},
   "outputs": [],
   "source": [
    "rfc = RandomForestClassifier(featuresCol = 'result', labelCol = 'Sentiment_num')\n",
    "rfc_model = rfc.fit(train_df)\n",
    "predictionsrfc = rfc_model.transform(test_df)"
   ]
  },
  {
   "cell_type": "code",
   "execution_count": 60,
   "metadata": {},
   "outputs": [
    {
     "data": {
      "text/plain": [
       "DataFrame[Sentiment_num: double, result: vector]"
      ]
     },
     "execution_count": 60,
     "metadata": {},
     "output_type": "execute_result"
    }
   ],
   "source": [
    "train_df"
   ]
  },
  {
   "cell_type": "code",
   "execution_count": 64,
   "metadata": {},
   "outputs": [
    {
     "data": {
      "text/plain": [
       "0.486090775988287"
      ]
     },
     "execution_count": 64,
     "metadata": {},
     "output_type": "execute_result"
    }
   ],
   "source": [
    "predictionsrfc.filter(predictionsrfc['prediction'] == 1).select('prediction').count()/test_df.count()"
   ]
  },
  {
   "cell_type": "code",
   "execution_count": 65,
   "metadata": {},
   "outputs": [
    {
     "data": {
      "text/plain": [
       "0.013177159590043924"
      ]
     },
     "execution_count": 65,
     "metadata": {},
     "output_type": "execute_result"
    }
   ],
   "source": [
    "predictionsrfc.filter(predictionsrfc['prediction'] == 2).select('prediction').count()/test_df.count()"
   ]
  },
  {
   "cell_type": "code",
   "execution_count": 66,
   "metadata": {},
   "outputs": [
    {
     "data": {
      "text/plain": [
       "0.5007320644216691"
      ]
     },
     "execution_count": 66,
     "metadata": {},
     "output_type": "execute_result"
    }
   ],
   "source": [
    "predictionsrfc.filter(predictionsrfc['prediction'] == 0).select('prediction').count()/test_df.count()"
   ]
  },
  {
   "cell_type": "markdown",
   "metadata": {},
   "source": [
    "Model performance."
   ]
  },
  {
   "cell_type": "code",
   "execution_count": 76,
   "metadata": {},
   "outputs": [
    {
     "name": "stdout",
     "output_type": "stream",
     "text": [
      "-- Random Forest Classifier --\n",
      "------------------------------------------------------------------------\n",
      "Classification Report\n",
      "               precision    recall  f1-score   support\n",
      "\n",
      "         0.0       0.53      0.63      0.58       284\n",
      "         1.0       0.48      0.62      0.54       260\n",
      "         2.0       0.56      0.04      0.07       139\n",
      "\n",
      "    accuracy                           0.51       683\n",
      "   macro avg       0.52      0.43      0.40       683\n",
      "weighted avg       0.52      0.51      0.46       683\n",
      "\n",
      "------------------------------------------------------------------------\n",
      "Confusion matrix\n",
      " [[180 101   3]\n",
      " [ 98 161   1]\n",
      " [ 64  70   5]] \n",
      "\n",
      "\n"
     ]
    }
   ],
   "source": [
    "result = predictionsrfc.select(predictionsrfc.columns[3], 'prediction').toPandas()\n",
    "true_labels=(test_df.select(\"Sentiment_num\")).toPandas()\n",
    "predicted_labels=result[\"prediction\"]\n",
    "\n",
    "print(\"-- Random Forest Classifier --\")\n",
    "print(\"------------------------------------------------------------------------\")\n",
    "print(\"Classification Report\\n\",classification_report(true_labels, predicted_labels))\n",
    "print(\"------------------------------------------------------------------------\")\n",
    "print(\"Confusion matrix\\n\",confusion_matrix(true_labels,predicted_labels),\"\\n\\n\")\n",
    "DC=confusion_matrix(true_labels,predicted_labels)"
   ]
  },
  {
   "cell_type": "code",
   "execution_count": 80,
   "metadata": {},
   "outputs": [
    {
     "data": {
      "application/vnd.jupyter.widget-view+json": {
       "model_id": "d6484b3b57b84c8fb12adceb47bf2d6b",
       "version_major": 2,
       "version_minor": 0
      },
      "text/plain": [
       "Summarize dataset:   0%|          | 0/5 [00:00<?, ?it/s]"
      ]
     },
     "metadata": {},
     "output_type": "display_data"
    },
    {
     "data": {
      "application/vnd.jupyter.widget-view+json": {
       "model_id": "82581fece9174611a3baa12feb239e64",
       "version_major": 2,
       "version_minor": 0
      },
      "text/plain": [
       "Generate report structure:   0%|          | 0/1 [00:00<?, ?it/s]"
      ]
     },
     "metadata": {},
     "output_type": "display_data"
    },
    {
     "data": {
      "application/vnd.jupyter.widget-view+json": {
       "model_id": "df69410bcac54d9ea3d0e20b5766296a",
       "version_major": 2,
       "version_minor": 0
      },
      "text/plain": [
       "Render HTML:   0%|          | 0/1 [00:00<?, ?it/s]"
      ]
     },
     "metadata": {},
     "output_type": "display_data"
    },
    {
     "data": {
      "application/vnd.jupyter.widget-view+json": {
       "model_id": "54127925c0484bfcaf2fc925126f783f",
       "version_major": 2,
       "version_minor": 0
      },
      "text/plain": [
       "Export report to file:   0%|          | 0/1 [00:00<?, ?it/s]"
      ]
     },
     "metadata": {},
     "output_type": "display_data"
    }
   ],
   "source": [
    "from pandas_profiling import ProfileReport\n",
    "profile = ProfileReport(dataframe_mysql.toPandas())\n",
    "profile.to_file(\"output.html\")"
   ]
  },
  {
   "cell_type": "code",
   "execution_count": null,
   "metadata": {},
   "outputs": [],
   "source": []
  }
 ],
 "metadata": {
  "interpreter": {
   "hash": "4dc894006d5f0d29326bd81edd6f8b6ec5b8aee7b4e752badc33c56f6f5963e6"
  },
  "kernelspec": {
   "display_name": "Python 3",
   "language": "python",
   "name": "python3"
  },
  "language_info": {
   "codemirror_mode": {
    "name": "ipython",
    "version": 3
   },
   "file_extension": ".py",
   "mimetype": "text/x-python",
   "name": "python",
   "nbconvert_exporter": "python",
   "pygments_lexer": "ipython3",
   "version": "3.7.6"
  }
 },
 "nbformat": 4,
 "nbformat_minor": 2
}
